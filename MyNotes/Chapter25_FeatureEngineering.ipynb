{
 "cells": [
  {
   "cell_type": "markdown",
   "metadata": {},
   "source": [
    "# 25. 데이터 전처리 및 피처 엔지니어링"
   ]
  },
  {
   "cell_type": "markdown",
   "metadata": {},
   "source": [
    "## 25.1 사용 목적에 따라 모델 서식 지정하기\n",
    "+ 데이터를 Double Type의 컬럼으로 가져와서 레이블을 표시, Vector 타입의 컬럼을 사용해서 특징을 나타냄\n",
    "+ 그래프 분석은 정점과 에지가 각각 DataFrame으로 구성되어야 함"
   ]
  },
  {
   "cell_type": "code",
   "execution_count": 1,
   "metadata": {},
   "outputs": [],
   "source": [
    "# 세션 생성\n",
    "from pyspark.sql import SparkSession\n",
    "\n",
    "spark = SparkSession \\\n",
    "    .builder \\\n",
    "    .appName(\"feature engineering example\") \\\n",
    "    .config(\"spark.some.config.option\", \"some-value\") \\\n",
    "    .getOrCreate()\n",
    "\n",
    "spark.conf.set('spark.sql.shuffle.partitions', 5)"
   ]
  },
  {
   "cell_type": "code",
   "execution_count": 2,
   "metadata": {},
   "outputs": [],
   "source": [
    "sales = spark.read.format(\"csv\")\\\n",
    "    .option(\"header\", \"true\")\\\n",
    "    .option(\"inferSchema\", \"true\")\\\n",
    "    .load(\"../BookSamples/data/retail-data/by-day/*.csv\")\\\n",
    "    .coalesce(5)\\\n",
    "    .where(\"Description IS NOT NULL\")\n",
    "    # 널 값을 꼭 걸러내야 함"
   ]
  },
  {
   "cell_type": "code",
   "execution_count": 3,
   "metadata": {},
   "outputs": [],
   "source": [
    "fakeIntDF = spark.read.parquet(\"../BookSamples/data/simple-ml-integers/\")\n",
    "simpleDF = spark.read.json(\"../BookSamples/data/simple-ml/\")\n",
    "scaleDF = spark.read.parquet(\"../BookSamples/data/simple-ml-scaling/\")"
   ]
  },
  {
   "cell_type": "code",
   "execution_count": 4,
   "metadata": {},
   "outputs": [
    {
     "name": "stdout",
     "output_type": "stream",
     "text": [
      "+---------+---------+--------------------+--------+-------------------+---------+----------+--------------+\n",
      "|InvoiceNo|StockCode|         Description|Quantity|        InvoiceDate|UnitPrice|CustomerID|       Country|\n",
      "+---------+---------+--------------------+--------+-------------------+---------+----------+--------------+\n",
      "|   580538|    23084|  RABBIT NIGHT LIGHT|      48|2011-12-05 08:38:00|     1.79|   14075.0|United Kingdom|\n",
      "|   580538|    23077| DOUGHNUT LIP GLOSS |      20|2011-12-05 08:38:00|     1.25|   14075.0|United Kingdom|\n",
      "|   580538|    22906|12 MESSAGE CARDS ...|      24|2011-12-05 08:38:00|     1.65|   14075.0|United Kingdom|\n",
      "|   580538|    21914|BLUE HARMONICA IN...|      24|2011-12-05 08:38:00|     1.25|   14075.0|United Kingdom|\n",
      "|   580538|    22467|   GUMBALL COAT RACK|       6|2011-12-05 08:38:00|     2.55|   14075.0|United Kingdom|\n",
      "+---------+---------+--------------------+--------+-------------------+---------+----------+--------------+\n",
      "only showing top 5 rows\n",
      "\n"
     ]
    }
   ],
   "source": [
    "sales.cache()\n",
    "sales.show(5)"
   ]
  },
  {
   "cell_type": "code",
   "execution_count": 5,
   "metadata": {},
   "outputs": [
    {
     "name": "stdout",
     "output_type": "stream",
     "text": [
      "+----+----+----+\n",
      "|int1|int2|int3|\n",
      "+----+----+----+\n",
      "|   7|   8|   9|\n",
      "|   1|   2|   3|\n",
      "|   4|   5|   6|\n",
      "+----+----+----+\n",
      "\n",
      "+-----+----+------+------------------+\n",
      "|color| lab|value1|            value2|\n",
      "+-----+----+------+------------------+\n",
      "|green|good|     1|14.386294994851129|\n",
      "| blue| bad|     8|14.386294994851129|\n",
      "| blue| bad|    12|14.386294994851129|\n",
      "|green|good|    15| 38.97187133755819|\n",
      "|green|good|    12|14.386294994851129|\n",
      "|green| bad|    16|14.386294994851129|\n",
      "|  red|good|    35|14.386294994851129|\n",
      "|  red| bad|     1| 38.97187133755819|\n",
      "|  red| bad|     2|14.386294994851129|\n",
      "|  red| bad|    16|14.386294994851129|\n",
      "|  red|good|    45| 38.97187133755819|\n",
      "|green|good|     1|14.386294994851129|\n",
      "| blue| bad|     8|14.386294994851129|\n",
      "| blue| bad|    12|14.386294994851129|\n",
      "|green|good|    15| 38.97187133755819|\n",
      "|green|good|    12|14.386294994851129|\n",
      "|green| bad|    16|14.386294994851129|\n",
      "|  red|good|    35|14.386294994851129|\n",
      "|  red| bad|     1| 38.97187133755819|\n",
      "|  red| bad|     2|14.386294994851129|\n",
      "+-----+----+------+------------------+\n",
      "only showing top 20 rows\n",
      "\n",
      "+---+--------------+\n",
      "| id|      features|\n",
      "+---+--------------+\n",
      "|  0|[1.0,0.1,-1.0]|\n",
      "|  1| [2.0,1.1,1.0]|\n",
      "|  0|[1.0,0.1,-1.0]|\n",
      "|  1| [2.0,1.1,1.0]|\n",
      "|  1|[3.0,10.1,3.0]|\n",
      "+---+--------------+\n",
      "\n"
     ]
    }
   ],
   "source": [
    "fakeIntDF.show()\n",
    "simpleDF.show()\n",
    "scaleDF.show()"
   ]
  },
  {
   "cell_type": "markdown",
   "metadata": {},
   "source": [
    "## 25.2 변환자\n",
    "+ 변환자는 다양한 방식으로 원시 데이터를 변환시키는 함수\n",
    "+ 새로운 상호작용 변수를 생성하거나 컬럼을 정규화, 모델 입력을 위해 Double형 변환 기능 등을 제공"
   ]
  },
  {
   "cell_type": "code",
   "execution_count": 6,
   "metadata": {},
   "outputs": [
    {
     "name": "stdout",
     "output_type": "stream",
     "text": [
      "+--------------------+--------------------+\n",
      "|         Description|               words|\n",
      "+--------------------+--------------------+\n",
      "|  RABBIT NIGHT LIGHT|[rabbit, night, l...|\n",
      "| DOUGHNUT LIP GLOSS |[doughnut, lip, g...|\n",
      "|12 MESSAGE CARDS ...|[12, message, car...|\n",
      "|BLUE HARMONICA IN...|[blue, harmonica,...|\n",
      "|   GUMBALL COAT RACK|[gumball, coat, r...|\n",
      "|SKULLS  WATER TRA...|[skulls, , water,...|\n",
      "|FELTCRAFT GIRL AM...|[feltcraft, girl,...|\n",
      "|CAMOUFLAGE LED TORCH|[camouflage, led,...|\n",
      "|WHITE SKULL HOT W...|[white, skull, ho...|\n",
      "|ENGLISH ROSE HOT ...|[english, rose, h...|\n",
      "|HOT WATER BOTTLE ...|[hot, water, bott...|\n",
      "|SCOTTIE DOG HOT W...|[scottie, dog, ho...|\n",
      "|ROSE CARAVAN DOOR...|[rose, caravan, d...|\n",
      "|GINGHAM HEART  DO...|[gingham, heart, ...|\n",
      "|STORAGE TIN VINTA...|[storage, tin, vi...|\n",
      "|SET OF 4 KNICK KN...|[set, of, 4, knic...|\n",
      "|      POPCORN HOLDER|   [popcorn, holder]|\n",
      "|GROW A FLYTRAP OR...|[grow, a, flytrap...|\n",
      "|AIRLINE BAG VINTA...|[airline, bag, vi...|\n",
      "|AIRLINE BAG VINTA...|[airline, bag, vi...|\n",
      "+--------------------+--------------------+\n",
      "only showing top 20 rows\n",
      "\n"
     ]
    }
   ],
   "source": [
    "from pyspark.ml.feature import Tokenizer\n",
    "\n",
    "tkn = Tokenizer(inputCol=\"Description\", outputCol=\"words\")\n",
    "tkn.transform(sales.select(\"Description\")).show()"
   ]
  },
  {
   "cell_type": "markdown",
   "metadata": {},
   "source": [
    "## 25.3 전처리 추정자\n",
    "+ 수행하려는 변환이 입력 컬럼에 대한 데이터 또는 정보로 초기화되어야 할 때 사용\n",
    "    + StandardScaler는 평균과 분산 파라미터가 필요하므로 이를 추정자가 처리함\n",
    "+ inputCol, outputCol 지정 필요"
   ]
  },
  {
   "cell_type": "code",
   "execution_count": 7,
   "metadata": {},
   "outputs": [
    {
     "name": "stdout",
     "output_type": "stream",
     "text": [
      "+---+--------------+--------------------+\n",
      "| id|      features|      scaledFeatures|\n",
      "+---+--------------+--------------------+\n",
      "|  0|[1.0,0.1,-1.0]|[1.19522860933439...|\n",
      "|  1| [2.0,1.1,1.0]|[2.39045721866878...|\n",
      "|  0|[1.0,0.1,-1.0]|[1.19522860933439...|\n",
      "|  1| [2.0,1.1,1.0]|[2.39045721866878...|\n",
      "|  1|[3.0,10.1,3.0]|[3.58568582800318...|\n",
      "+---+--------------+--------------------+\n",
      "\n"
     ]
    }
   ],
   "source": [
    "from pyspark.ml.feature import StandardScaler\n",
    "\n",
    "ss = StandardScaler(inputCol=\"features\", outputCol=\"scaledFeatures\")\n",
    "ss.fit(scaleDF).transform(scaleDF).show()"
   ]
  },
  {
   "cell_type": "markdown",
   "metadata": {},
   "source": [
    "## 25.4 고수준 변환자\n",
    "+ 비즈니스 문제에 집중하기 위해서는 가능한 한 최상위 수준의 변환자 사용을 지향해야 함"
   ]
  },
  {
   "cell_type": "markdown",
   "metadata": {},
   "source": [
    "### 25.4.1 RFormula\n",
    "+ R에서 빌려옴\n",
    "+ 데이터값은 숫자형 또는 범주형이 되고, 문자열에서 값을 추출하는 등의 조직을 할 필요가 없음\n",
    "+ 기본 연산자\n",
    "    + ~\n",
    "        + 함수에서 타깃과 항을 분리\n",
    "    + \\+\n",
    "        + +0는 y 절편 제거를 의미\n",
    "    + -\n",
    "        + 삭제기호, -1는 y 절편 제거를 의미 +0과 결과가 같음\n",
    "    + :\n",
    "        + 상호작용(수치형 값이나 이진화된 범주 값에 대한 곱셈)\n",
    "    + .\n",
    "        + 타깃 / 종속변수를 제외한 모든 컬럼\n",
    "        "
   ]
  },
  {
   "cell_type": "code",
   "execution_count": null,
   "metadata": {},
   "outputs": [],
   "source": []
  }
 ],
 "metadata": {
  "kernelspec": {
   "display_name": "Python 3",
   "language": "python",
   "name": "python3"
  },
  "language_info": {
   "codemirror_mode": {
    "name": "ipython",
    "version": 3
   },
   "file_extension": ".py",
   "mimetype": "text/x-python",
   "name": "python",
   "nbconvert_exporter": "python",
   "pygments_lexer": "ipython3",
   "version": "3.7.6"
  }
 },
 "nbformat": 4,
 "nbformat_minor": 4
}
